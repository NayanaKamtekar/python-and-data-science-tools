{
 "cells": [
  {
   "cell_type": "markdown",
   "metadata": {},
   "source": [
    "# Spam detection (example, continued)\n",
    "\n",
    "As in Week 3, we will use a data set from the paper\n",
    "\n",
    "Almeida, T.A., Hidalgo, J.M., Yamakami, A. Contributions to the Study of SMS Spam Filtering: New Collection and Results. Proceedings of the 2011 ACM Symposium on Document Engineering (DOCENG'11), Mountain View, CA, USA, 2011."
   ]
  },
  {
   "cell_type": "code",
   "execution_count": 79,
   "metadata": {
    "collapsed": false
   },
   "outputs": [],
   "source": [
    "import numpy as np\n",
    "import pandas as pd\n",
    "df = pd.read_csv('SMSSpamCollection.txt', delimiter = \"\\t\", names=['s','t'])"
   ]
  },
  {
   "cell_type": "markdown",
   "metadata": {},
   "source": [
    "As in Week 3, we count the number of uppercase letters in each text message."
   ]
  },
  {
   "cell_type": "code",
   "execution_count": 80,
   "metadata": {
    "collapsed": false
   },
   "outputs": [
    {
     "name": "stderr",
     "output_type": "stream",
     "text": [
      "C:\\Users\\swmo\\Anaconda3\\lib\\site-packages\\ipykernel\\__main__.py:3: FutureWarning: currently extract(expand=None) means expand=False (return Index/Series/DataFrame) but in a future version of pandas this will be changed to expand=True (return DataFrame)\n",
      "  app.launch_new_instance()\n"
     ]
    }
   ],
   "source": [
    "import re\n",
    "df['l'] = df['t'].str.len()\n",
    "df['f'] = df.t.str.extract('([A-Z_]+)')\n",
    "df['fl'] = df['f'].str.len()\n",
    "df2 = df.t.str.extractall('([A-Z_]+)') # note that this is a data frame with hierarchical indexing\n",
    "\n",
    "df['uc'] = df2.groupby(level=[0]).sum()\n",
    "df['ucl'] = df['uc'].str.len()\n",
    "\n",
    "df['ucr'] = df['ucl'].div(df['l'])"
   ]
  },
  {
   "cell_type": "code",
   "execution_count": 81,
   "metadata": {
    "collapsed": false
   },
   "outputs": [],
   "source": [
    "df['sb'] = 1*(df['s'] == 'spam')"
   ]
  },
  {
   "cell_type": "code",
   "execution_count": 82,
   "metadata": {
    "collapsed": false
   },
   "outputs": [],
   "source": [
    "df.shape\n",
    "df.isnull().sum() #isna() in some versions\n",
    "df.loc[df.isnull().any(axis = 1)]\n",
    "df.loc[df['ucr'].isnull(), 'ucr'] = 0 # we make the missing values zero in this case as they correspond to texts with no capital letters\n",
    "df.loc[df['uc'].isnull(), 'uc'] = ''\n",
    "df.loc[df['ucl'].isnull(), 'ucl'] = 0"
   ]
  },
  {
   "cell_type": "code",
   "execution_count": 83,
   "metadata": {
    "collapsed": false
   },
   "outputs": [
    {
     "data": {
      "text/html": [
       "<div>\n",
       "<table border=\"1\" class=\"dataframe\">\n",
       "  <thead>\n",
       "    <tr style=\"text-align: right;\">\n",
       "      <th></th>\n",
       "      <th>s</th>\n",
       "      <th>t</th>\n",
       "      <th>l</th>\n",
       "      <th>f</th>\n",
       "      <th>fl</th>\n",
       "      <th>uc</th>\n",
       "      <th>ucl</th>\n",
       "      <th>ucr</th>\n",
       "      <th>sb</th>\n",
       "    </tr>\n",
       "  </thead>\n",
       "  <tbody>\n",
       "    <tr>\n",
       "      <th>0</th>\n",
       "      <td>ham</td>\n",
       "      <td>Go until jurong point, crazy.. Available only ...</td>\n",
       "      <td>111</td>\n",
       "      <td>G</td>\n",
       "      <td>1.0</td>\n",
       "      <td>GAC</td>\n",
       "      <td>3.0</td>\n",
       "      <td>0.027027</td>\n",
       "      <td>0</td>\n",
       "    </tr>\n",
       "    <tr>\n",
       "      <th>1</th>\n",
       "      <td>ham</td>\n",
       "      <td>Ok lar... Joking wif u oni...</td>\n",
       "      <td>29</td>\n",
       "      <td>O</td>\n",
       "      <td>1.0</td>\n",
       "      <td>OJ</td>\n",
       "      <td>2.0</td>\n",
       "      <td>0.068966</td>\n",
       "      <td>0</td>\n",
       "    </tr>\n",
       "    <tr>\n",
       "      <th>2</th>\n",
       "      <td>spam</td>\n",
       "      <td>Free entry in 2 a wkly comp to win FA Cup fina...</td>\n",
       "      <td>155</td>\n",
       "      <td>F</td>\n",
       "      <td>1.0</td>\n",
       "      <td>FFACMTFATC</td>\n",
       "      <td>10.0</td>\n",
       "      <td>0.064516</td>\n",
       "      <td>1</td>\n",
       "    </tr>\n",
       "    <tr>\n",
       "      <th>3</th>\n",
       "      <td>ham</td>\n",
       "      <td>U dun say so early hor... U c already then say...</td>\n",
       "      <td>49</td>\n",
       "      <td>U</td>\n",
       "      <td>1.0</td>\n",
       "      <td>UU</td>\n",
       "      <td>2.0</td>\n",
       "      <td>0.040816</td>\n",
       "      <td>0</td>\n",
       "    </tr>\n",
       "    <tr>\n",
       "      <th>4</th>\n",
       "      <td>ham</td>\n",
       "      <td>Nah I don't think he goes to usf, he lives aro...</td>\n",
       "      <td>61</td>\n",
       "      <td>N</td>\n",
       "      <td>1.0</td>\n",
       "      <td>NI</td>\n",
       "      <td>2.0</td>\n",
       "      <td>0.032787</td>\n",
       "      <td>0</td>\n",
       "    </tr>\n",
       "    <tr>\n",
       "      <th>5</th>\n",
       "      <td>spam</td>\n",
       "      <td>FreeMsg Hey there darling it's been 3 week's n...</td>\n",
       "      <td>147</td>\n",
       "      <td>F</td>\n",
       "      <td>1.0</td>\n",
       "      <td>FMHITXX</td>\n",
       "      <td>7.0</td>\n",
       "      <td>0.047619</td>\n",
       "      <td>1</td>\n",
       "    </tr>\n",
       "    <tr>\n",
       "      <th>6</th>\n",
       "      <td>ham</td>\n",
       "      <td>Even my brother is not like to speak with me. ...</td>\n",
       "      <td>77</td>\n",
       "      <td>E</td>\n",
       "      <td>1.0</td>\n",
       "      <td>ET</td>\n",
       "      <td>2.0</td>\n",
       "      <td>0.025974</td>\n",
       "      <td>0</td>\n",
       "    </tr>\n",
       "    <tr>\n",
       "      <th>7</th>\n",
       "      <td>ham</td>\n",
       "      <td>As per your request 'Melle Melle (Oru Minnamin...</td>\n",
       "      <td>160</td>\n",
       "      <td>A</td>\n",
       "      <td>1.0</td>\n",
       "      <td>AMMOMNVCPC</td>\n",
       "      <td>10.0</td>\n",
       "      <td>0.062500</td>\n",
       "      <td>0</td>\n",
       "    </tr>\n",
       "    <tr>\n",
       "      <th>8</th>\n",
       "      <td>spam</td>\n",
       "      <td>WINNER!! As a valued network customer you have...</td>\n",
       "      <td>157</td>\n",
       "      <td>WINNER</td>\n",
       "      <td>6.0</td>\n",
       "      <td>WINNERATCKLV</td>\n",
       "      <td>12.0</td>\n",
       "      <td>0.076433</td>\n",
       "      <td>1</td>\n",
       "    </tr>\n",
       "    <tr>\n",
       "      <th>9</th>\n",
       "      <td>spam</td>\n",
       "      <td>Had your mobile 11 months or more? U R entitle...</td>\n",
       "      <td>154</td>\n",
       "      <td>H</td>\n",
       "      <td>1.0</td>\n",
       "      <td>HURUFCTMUCFREE</td>\n",
       "      <td>14.0</td>\n",
       "      <td>0.090909</td>\n",
       "      <td>1</td>\n",
       "    </tr>\n",
       "    <tr>\n",
       "      <th>10</th>\n",
       "      <td>ham</td>\n",
       "      <td>I'm gonna be home soon and i don't want to tal...</td>\n",
       "      <td>109</td>\n",
       "      <td>I</td>\n",
       "      <td>1.0</td>\n",
       "      <td>II</td>\n",
       "      <td>2.0</td>\n",
       "      <td>0.018349</td>\n",
       "      <td>0</td>\n",
       "    </tr>\n",
       "    <tr>\n",
       "      <th>11</th>\n",
       "      <td>spam</td>\n",
       "      <td>SIX chances to win CASH! From 100 to 20,000 po...</td>\n",
       "      <td>136</td>\n",
       "      <td>SIX</td>\n",
       "      <td>3.0</td>\n",
       "      <td>SIXCASHFCSHCTCRHL</td>\n",
       "      <td>17.0</td>\n",
       "      <td>0.125000</td>\n",
       "      <td>1</td>\n",
       "    </tr>\n",
       "    <tr>\n",
       "      <th>12</th>\n",
       "      <td>spam</td>\n",
       "      <td>URGENT! You have won a 1 week FREE membership ...</td>\n",
       "      <td>155</td>\n",
       "      <td>URGENT</td>\n",
       "      <td>6.0</td>\n",
       "      <td>URGENTYFREEPJTCLAIMNTCLCCLTDPOBOXLDNWARW</td>\n",
       "      <td>40.0</td>\n",
       "      <td>0.258065</td>\n",
       "      <td>1</td>\n",
       "    </tr>\n",
       "    <tr>\n",
       "      <th>13</th>\n",
       "      <td>ham</td>\n",
       "      <td>I've been searching for the right words to tha...</td>\n",
       "      <td>196</td>\n",
       "      <td>I</td>\n",
       "      <td>1.0</td>\n",
       "      <td>IIY</td>\n",
       "      <td>3.0</td>\n",
       "      <td>0.015306</td>\n",
       "      <td>0</td>\n",
       "    </tr>\n",
       "    <tr>\n",
       "      <th>14</th>\n",
       "      <td>ham</td>\n",
       "      <td>I HAVE A DATE ON SUNDAY WITH WILL!!</td>\n",
       "      <td>35</td>\n",
       "      <td>I</td>\n",
       "      <td>1.0</td>\n",
       "      <td>IHAVEADATEONSUNDAYWITHWILL</td>\n",
       "      <td>26.0</td>\n",
       "      <td>0.742857</td>\n",
       "      <td>0</td>\n",
       "    </tr>\n",
       "    <tr>\n",
       "      <th>15</th>\n",
       "      <td>spam</td>\n",
       "      <td>XXXMobileMovieClub: To use your credit, click ...</td>\n",
       "      <td>149</td>\n",
       "      <td>XXXM</td>\n",
       "      <td>4.0</td>\n",
       "      <td>XXXMMCTWAPQJKGIGHJJGCBL</td>\n",
       "      <td>23.0</td>\n",
       "      <td>0.154362</td>\n",
       "      <td>1</td>\n",
       "    </tr>\n",
       "    <tr>\n",
       "      <th>16</th>\n",
       "      <td>ham</td>\n",
       "      <td>Oh k...i'm watching here:)</td>\n",
       "      <td>26</td>\n",
       "      <td>O</td>\n",
       "      <td>1.0</td>\n",
       "      <td>O</td>\n",
       "      <td>1.0</td>\n",
       "      <td>0.038462</td>\n",
       "      <td>0</td>\n",
       "    </tr>\n",
       "    <tr>\n",
       "      <th>17</th>\n",
       "      <td>ham</td>\n",
       "      <td>Eh u remember how 2 spell his name... Yes i di...</td>\n",
       "      <td>81</td>\n",
       "      <td>E</td>\n",
       "      <td>1.0</td>\n",
       "      <td>EYH</td>\n",
       "      <td>3.0</td>\n",
       "      <td>0.037037</td>\n",
       "      <td>0</td>\n",
       "    </tr>\n",
       "    <tr>\n",
       "      <th>18</th>\n",
       "      <td>ham</td>\n",
       "      <td>Fine if thats the way u feel. Thats the way ...</td>\n",
       "      <td>56</td>\n",
       "      <td>F</td>\n",
       "      <td>1.0</td>\n",
       "      <td>FT</td>\n",
       "      <td>2.0</td>\n",
       "      <td>0.035714</td>\n",
       "      <td>0</td>\n",
       "    </tr>\n",
       "    <tr>\n",
       "      <th>19</th>\n",
       "      <td>spam</td>\n",
       "      <td>England v Macedonia - dont miss the goals/team...</td>\n",
       "      <td>155</td>\n",
       "      <td>E</td>\n",
       "      <td>1.0</td>\n",
       "      <td>EMTENGLANDTWALESSCOTLANDPOBOXWWQ</td>\n",
       "      <td>32.0</td>\n",
       "      <td>0.206452</td>\n",
       "      <td>1</td>\n",
       "    </tr>\n",
       "    <tr>\n",
       "      <th>20</th>\n",
       "      <td>ham</td>\n",
       "      <td>Is that seriously how you spell his name?</td>\n",
       "      <td>41</td>\n",
       "      <td>I</td>\n",
       "      <td>1.0</td>\n",
       "      <td>I</td>\n",
       "      <td>1.0</td>\n",
       "      <td>0.024390</td>\n",
       "      <td>0</td>\n",
       "    </tr>\n",
       "    <tr>\n",
       "      <th>21</th>\n",
       "      <td>ham</td>\n",
       "      <td>I‘m going to try for 2 months ha ha only joking</td>\n",
       "      <td>47</td>\n",
       "      <td>I</td>\n",
       "      <td>1.0</td>\n",
       "      <td>I</td>\n",
       "      <td>1.0</td>\n",
       "      <td>0.021277</td>\n",
       "      <td>0</td>\n",
       "    </tr>\n",
       "    <tr>\n",
       "      <th>22</th>\n",
       "      <td>ham</td>\n",
       "      <td>So ü pay first lar... Then when is da stock co...</td>\n",
       "      <td>52</td>\n",
       "      <td>S</td>\n",
       "      <td>1.0</td>\n",
       "      <td>ST</td>\n",
       "      <td>2.0</td>\n",
       "      <td>0.038462</td>\n",
       "      <td>0</td>\n",
       "    </tr>\n",
       "    <tr>\n",
       "      <th>23</th>\n",
       "      <td>ham</td>\n",
       "      <td>Aft i finish my lunch then i go str down lor. ...</td>\n",
       "      <td>88</td>\n",
       "      <td>A</td>\n",
       "      <td>1.0</td>\n",
       "      <td>AAU</td>\n",
       "      <td>3.0</td>\n",
       "      <td>0.034091</td>\n",
       "      <td>0</td>\n",
       "    </tr>\n",
       "    <tr>\n",
       "      <th>24</th>\n",
       "      <td>ham</td>\n",
       "      <td>Ffffffffff. Alright no way I can meet up with ...</td>\n",
       "      <td>57</td>\n",
       "      <td>F</td>\n",
       "      <td>1.0</td>\n",
       "      <td>FAI</td>\n",
       "      <td>3.0</td>\n",
       "      <td>0.052632</td>\n",
       "      <td>0</td>\n",
       "    </tr>\n",
       "    <tr>\n",
       "      <th>25</th>\n",
       "      <td>ham</td>\n",
       "      <td>Just forced myself to eat a slice. I'm really ...</td>\n",
       "      <td>144</td>\n",
       "      <td>J</td>\n",
       "      <td>1.0</td>\n",
       "      <td>JITMHIIL</td>\n",
       "      <td>8.0</td>\n",
       "      <td>0.055556</td>\n",
       "      <td>0</td>\n",
       "    </tr>\n",
       "    <tr>\n",
       "      <th>26</th>\n",
       "      <td>ham</td>\n",
       "      <td>Lol your always so convincing.</td>\n",
       "      <td>30</td>\n",
       "      <td>L</td>\n",
       "      <td>1.0</td>\n",
       "      <td>L</td>\n",
       "      <td>1.0</td>\n",
       "      <td>0.033333</td>\n",
       "      <td>0</td>\n",
       "    </tr>\n",
       "    <tr>\n",
       "      <th>27</th>\n",
       "      <td>ham</td>\n",
       "      <td>Did you catch the bus ? Are you frying an egg ...</td>\n",
       "      <td>134</td>\n",
       "      <td>D</td>\n",
       "      <td>1.0</td>\n",
       "      <td>DADADL</td>\n",
       "      <td>6.0</td>\n",
       "      <td>0.044776</td>\n",
       "      <td>0</td>\n",
       "    </tr>\n",
       "    <tr>\n",
       "      <th>28</th>\n",
       "      <td>ham</td>\n",
       "      <td>I'm back &amp;amp; we're packing the car now, I'll...</td>\n",
       "      <td>75</td>\n",
       "      <td>I</td>\n",
       "      <td>1.0</td>\n",
       "      <td>II</td>\n",
       "      <td>2.0</td>\n",
       "      <td>0.026667</td>\n",
       "      <td>0</td>\n",
       "    </tr>\n",
       "    <tr>\n",
       "      <th>29</th>\n",
       "      <td>ham</td>\n",
       "      <td>Ahhh. Work. I vaguely remember that! What does...</td>\n",
       "      <td>64</td>\n",
       "      <td>A</td>\n",
       "      <td>1.0</td>\n",
       "      <td>AWIWL</td>\n",
       "      <td>5.0</td>\n",
       "      <td>0.078125</td>\n",
       "      <td>0</td>\n",
       "    </tr>\n",
       "    <tr>\n",
       "      <th>...</th>\n",
       "      <td>...</td>\n",
       "      <td>...</td>\n",
       "      <td>...</td>\n",
       "      <td>...</td>\n",
       "      <td>...</td>\n",
       "      <td>...</td>\n",
       "      <td>...</td>\n",
       "      <td>...</td>\n",
       "      <td>...</td>\n",
       "    </tr>\n",
       "    <tr>\n",
       "      <th>5542</th>\n",
       "      <td>ham</td>\n",
       "      <td>Armand says get your ass over to epsilon</td>\n",
       "      <td>40</td>\n",
       "      <td>A</td>\n",
       "      <td>1.0</td>\n",
       "      <td>A</td>\n",
       "      <td>1.0</td>\n",
       "      <td>0.025000</td>\n",
       "      <td>0</td>\n",
       "    </tr>\n",
       "    <tr>\n",
       "      <th>5543</th>\n",
       "      <td>ham</td>\n",
       "      <td>U still havent got urself a jacket ah?</td>\n",
       "      <td>38</td>\n",
       "      <td>U</td>\n",
       "      <td>1.0</td>\n",
       "      <td>U</td>\n",
       "      <td>1.0</td>\n",
       "      <td>0.026316</td>\n",
       "      <td>0</td>\n",
       "    </tr>\n",
       "    <tr>\n",
       "      <th>5544</th>\n",
       "      <td>ham</td>\n",
       "      <td>I'm taking derek &amp;amp; taylor to walmart, if I...</td>\n",
       "      <td>154</td>\n",
       "      <td>I</td>\n",
       "      <td>1.0</td>\n",
       "      <td>III</td>\n",
       "      <td>3.0</td>\n",
       "      <td>0.019481</td>\n",
       "      <td>0</td>\n",
       "    </tr>\n",
       "    <tr>\n",
       "      <th>5545</th>\n",
       "      <td>ham</td>\n",
       "      <td>Hi its in durban are you still on this number</td>\n",
       "      <td>45</td>\n",
       "      <td>H</td>\n",
       "      <td>1.0</td>\n",
       "      <td>H</td>\n",
       "      <td>1.0</td>\n",
       "      <td>0.022222</td>\n",
       "      <td>0</td>\n",
       "    </tr>\n",
       "    <tr>\n",
       "      <th>5546</th>\n",
       "      <td>ham</td>\n",
       "      <td>Ic. There are a lotta childporn cars then.</td>\n",
       "      <td>42</td>\n",
       "      <td>I</td>\n",
       "      <td>1.0</td>\n",
       "      <td>IT</td>\n",
       "      <td>2.0</td>\n",
       "      <td>0.047619</td>\n",
       "      <td>0</td>\n",
       "    </tr>\n",
       "    <tr>\n",
       "      <th>5547</th>\n",
       "      <td>spam</td>\n",
       "      <td>Had your contract mobile 11 Mnths? Latest Moto...</td>\n",
       "      <td>160</td>\n",
       "      <td>H</td>\n",
       "      <td>1.0</td>\n",
       "      <td>HMLMNFREEDMTOTEXTYES</td>\n",
       "      <td>20.0</td>\n",
       "      <td>0.125000</td>\n",
       "      <td>1</td>\n",
       "    </tr>\n",
       "    <tr>\n",
       "      <th>5548</th>\n",
       "      <td>ham</td>\n",
       "      <td>No, I was trying it all weekend ;V</td>\n",
       "      <td>34</td>\n",
       "      <td>N</td>\n",
       "      <td>1.0</td>\n",
       "      <td>NIV</td>\n",
       "      <td>3.0</td>\n",
       "      <td>0.088235</td>\n",
       "      <td>0</td>\n",
       "    </tr>\n",
       "    <tr>\n",
       "      <th>5549</th>\n",
       "      <td>ham</td>\n",
       "      <td>You know, wot people wear. T shirts, jumpers, ...</td>\n",
       "      <td>87</td>\n",
       "      <td>Y</td>\n",
       "      <td>1.0</td>\n",
       "      <td>YTWC</td>\n",
       "      <td>4.0</td>\n",
       "      <td>0.045977</td>\n",
       "      <td>0</td>\n",
       "    </tr>\n",
       "    <tr>\n",
       "      <th>5550</th>\n",
       "      <td>ham</td>\n",
       "      <td>Cool, what time you think you can get here?</td>\n",
       "      <td>43</td>\n",
       "      <td>C</td>\n",
       "      <td>1.0</td>\n",
       "      <td>C</td>\n",
       "      <td>1.0</td>\n",
       "      <td>0.023256</td>\n",
       "      <td>0</td>\n",
       "    </tr>\n",
       "    <tr>\n",
       "      <th>5551</th>\n",
       "      <td>ham</td>\n",
       "      <td>Wen did you get so spiritual and deep. That's ...</td>\n",
       "      <td>51</td>\n",
       "      <td>W</td>\n",
       "      <td>1.0</td>\n",
       "      <td>WT</td>\n",
       "      <td>2.0</td>\n",
       "      <td>0.039216</td>\n",
       "      <td>0</td>\n",
       "    </tr>\n",
       "    <tr>\n",
       "      <th>5552</th>\n",
       "      <td>ham</td>\n",
       "      <td>Have a safe trip to Nigeria. Wish you happines...</td>\n",
       "      <td>91</td>\n",
       "      <td>H</td>\n",
       "      <td>1.0</td>\n",
       "      <td>HNW</td>\n",
       "      <td>3.0</td>\n",
       "      <td>0.032967</td>\n",
       "      <td>0</td>\n",
       "    </tr>\n",
       "    <tr>\n",
       "      <th>5553</th>\n",
       "      <td>ham</td>\n",
       "      <td>Hahaha..use your brain dear</td>\n",
       "      <td>27</td>\n",
       "      <td>H</td>\n",
       "      <td>1.0</td>\n",
       "      <td>H</td>\n",
       "      <td>1.0</td>\n",
       "      <td>0.037037</td>\n",
       "      <td>0</td>\n",
       "    </tr>\n",
       "    <tr>\n",
       "      <th>5554</th>\n",
       "      <td>ham</td>\n",
       "      <td>Well keep in mind I've only got enough gas for...</td>\n",
       "      <td>98</td>\n",
       "      <td>W</td>\n",
       "      <td>1.0</td>\n",
       "      <td>WI</td>\n",
       "      <td>2.0</td>\n",
       "      <td>0.020408</td>\n",
       "      <td>0</td>\n",
       "    </tr>\n",
       "    <tr>\n",
       "      <th>5555</th>\n",
       "      <td>ham</td>\n",
       "      <td>Yeh. Indians was nice. Tho it did kane me off ...</td>\n",
       "      <td>153</td>\n",
       "      <td>Y</td>\n",
       "      <td>1.0</td>\n",
       "      <td>YITWMLP</td>\n",
       "      <td>7.0</td>\n",
       "      <td>0.045752</td>\n",
       "      <td>0</td>\n",
       "    </tr>\n",
       "    <tr>\n",
       "      <th>5556</th>\n",
       "      <td>ham</td>\n",
       "      <td>Yes i have. So that's why u texted. Pshew...mi...</td>\n",
       "      <td>63</td>\n",
       "      <td>Y</td>\n",
       "      <td>1.0</td>\n",
       "      <td>YSP</td>\n",
       "      <td>3.0</td>\n",
       "      <td>0.047619</td>\n",
       "      <td>0</td>\n",
       "    </tr>\n",
       "    <tr>\n",
       "      <th>5557</th>\n",
       "      <td>ham</td>\n",
       "      <td>No. I meant the calculation is the same. That ...</td>\n",
       "      <td>273</td>\n",
       "      <td>N</td>\n",
       "      <td>1.0</td>\n",
       "      <td>NITTHBA</td>\n",
       "      <td>7.0</td>\n",
       "      <td>0.025641</td>\n",
       "      <td>0</td>\n",
       "    </tr>\n",
       "    <tr>\n",
       "      <th>5558</th>\n",
       "      <td>ham</td>\n",
       "      <td>Sorry, I'll call later</td>\n",
       "      <td>22</td>\n",
       "      <td>S</td>\n",
       "      <td>1.0</td>\n",
       "      <td>SI</td>\n",
       "      <td>2.0</td>\n",
       "      <td>0.090909</td>\n",
       "      <td>0</td>\n",
       "    </tr>\n",
       "    <tr>\n",
       "      <th>5559</th>\n",
       "      <td>ham</td>\n",
       "      <td>if you aren't here in the next  &amp;lt;#&amp;gt;  hou...</td>\n",
       "      <td>66</td>\n",
       "      <td>NaN</td>\n",
       "      <td>NaN</td>\n",
       "      <td></td>\n",
       "      <td>0.0</td>\n",
       "      <td>0.000000</td>\n",
       "      <td>0</td>\n",
       "    </tr>\n",
       "    <tr>\n",
       "      <th>5560</th>\n",
       "      <td>ham</td>\n",
       "      <td>Anything lor. Juz both of us lor.</td>\n",
       "      <td>33</td>\n",
       "      <td>A</td>\n",
       "      <td>1.0</td>\n",
       "      <td>AJ</td>\n",
       "      <td>2.0</td>\n",
       "      <td>0.060606</td>\n",
       "      <td>0</td>\n",
       "    </tr>\n",
       "    <tr>\n",
       "      <th>5561</th>\n",
       "      <td>ham</td>\n",
       "      <td>Get me out of this dump heap. My mom decided t...</td>\n",
       "      <td>70</td>\n",
       "      <td>G</td>\n",
       "      <td>1.0</td>\n",
       "      <td>GMBORING</td>\n",
       "      <td>8.0</td>\n",
       "      <td>0.114286</td>\n",
       "      <td>0</td>\n",
       "    </tr>\n",
       "    <tr>\n",
       "      <th>5562</th>\n",
       "      <td>ham</td>\n",
       "      <td>Ok lor... Sony ericsson salesman... I ask shuh...</td>\n",
       "      <td>96</td>\n",
       "      <td>O</td>\n",
       "      <td>1.0</td>\n",
       "      <td>OSI</td>\n",
       "      <td>3.0</td>\n",
       "      <td>0.031250</td>\n",
       "      <td>0</td>\n",
       "    </tr>\n",
       "    <tr>\n",
       "      <th>5563</th>\n",
       "      <td>ham</td>\n",
       "      <td>Ard 6 like dat lor.</td>\n",
       "      <td>19</td>\n",
       "      <td>A</td>\n",
       "      <td>1.0</td>\n",
       "      <td>A</td>\n",
       "      <td>1.0</td>\n",
       "      <td>0.052632</td>\n",
       "      <td>0</td>\n",
       "    </tr>\n",
       "    <tr>\n",
       "      <th>5564</th>\n",
       "      <td>ham</td>\n",
       "      <td>Why don't you wait 'til at least wednesday to ...</td>\n",
       "      <td>67</td>\n",
       "      <td>W</td>\n",
       "      <td>1.0</td>\n",
       "      <td>W</td>\n",
       "      <td>1.0</td>\n",
       "      <td>0.014925</td>\n",
       "      <td>0</td>\n",
       "    </tr>\n",
       "    <tr>\n",
       "      <th>5565</th>\n",
       "      <td>ham</td>\n",
       "      <td>Huh y lei...</td>\n",
       "      <td>12</td>\n",
       "      <td>H</td>\n",
       "      <td>1.0</td>\n",
       "      <td>H</td>\n",
       "      <td>1.0</td>\n",
       "      <td>0.083333</td>\n",
       "      <td>0</td>\n",
       "    </tr>\n",
       "    <tr>\n",
       "      <th>5566</th>\n",
       "      <td>spam</td>\n",
       "      <td>REMINDER FROM O2: To get 2.50 pounds free call...</td>\n",
       "      <td>147</td>\n",
       "      <td>REMINDER</td>\n",
       "      <td>8.0</td>\n",
       "      <td>REMINDERFROMOT</td>\n",
       "      <td>14.0</td>\n",
       "      <td>0.095238</td>\n",
       "      <td>1</td>\n",
       "    </tr>\n",
       "    <tr>\n",
       "      <th>5567</th>\n",
       "      <td>spam</td>\n",
       "      <td>This is the 2nd time we have tried 2 contact u...</td>\n",
       "      <td>160</td>\n",
       "      <td>T</td>\n",
       "      <td>1.0</td>\n",
       "      <td>TUPNOWOBT</td>\n",
       "      <td>9.0</td>\n",
       "      <td>0.056250</td>\n",
       "      <td>1</td>\n",
       "    </tr>\n",
       "    <tr>\n",
       "      <th>5568</th>\n",
       "      <td>ham</td>\n",
       "      <td>Will ü b going to esplanade fr home?</td>\n",
       "      <td>36</td>\n",
       "      <td>W</td>\n",
       "      <td>1.0</td>\n",
       "      <td>W</td>\n",
       "      <td>1.0</td>\n",
       "      <td>0.027778</td>\n",
       "      <td>0</td>\n",
       "    </tr>\n",
       "    <tr>\n",
       "      <th>5569</th>\n",
       "      <td>ham</td>\n",
       "      <td>Pity, * was in mood for that. So...any other s...</td>\n",
       "      <td>57</td>\n",
       "      <td>P</td>\n",
       "      <td>1.0</td>\n",
       "      <td>PS</td>\n",
       "      <td>2.0</td>\n",
       "      <td>0.035088</td>\n",
       "      <td>0</td>\n",
       "    </tr>\n",
       "    <tr>\n",
       "      <th>5570</th>\n",
       "      <td>ham</td>\n",
       "      <td>The guy did some bitching but I acted like i'd...</td>\n",
       "      <td>125</td>\n",
       "      <td>T</td>\n",
       "      <td>1.0</td>\n",
       "      <td>TI</td>\n",
       "      <td>2.0</td>\n",
       "      <td>0.016000</td>\n",
       "      <td>0</td>\n",
       "    </tr>\n",
       "    <tr>\n",
       "      <th>5571</th>\n",
       "      <td>ham</td>\n",
       "      <td>Rofl. Its true to its name</td>\n",
       "      <td>26</td>\n",
       "      <td>R</td>\n",
       "      <td>1.0</td>\n",
       "      <td>RI</td>\n",
       "      <td>2.0</td>\n",
       "      <td>0.076923</td>\n",
       "      <td>0</td>\n",
       "    </tr>\n",
       "  </tbody>\n",
       "</table>\n",
       "<p>5572 rows × 9 columns</p>\n",
       "</div>"
      ],
      "text/plain": [
       "         s                                                  t    l         f  \\\n",
       "0      ham  Go until jurong point, crazy.. Available only ...  111         G   \n",
       "1      ham                      Ok lar... Joking wif u oni...   29         O   \n",
       "2     spam  Free entry in 2 a wkly comp to win FA Cup fina...  155         F   \n",
       "3      ham  U dun say so early hor... U c already then say...   49         U   \n",
       "4      ham  Nah I don't think he goes to usf, he lives aro...   61         N   \n",
       "5     spam  FreeMsg Hey there darling it's been 3 week's n...  147         F   \n",
       "6      ham  Even my brother is not like to speak with me. ...   77         E   \n",
       "7      ham  As per your request 'Melle Melle (Oru Minnamin...  160         A   \n",
       "8     spam  WINNER!! As a valued network customer you have...  157    WINNER   \n",
       "9     spam  Had your mobile 11 months or more? U R entitle...  154         H   \n",
       "10     ham  I'm gonna be home soon and i don't want to tal...  109         I   \n",
       "11    spam  SIX chances to win CASH! From 100 to 20,000 po...  136       SIX   \n",
       "12    spam  URGENT! You have won a 1 week FREE membership ...  155    URGENT   \n",
       "13     ham  I've been searching for the right words to tha...  196         I   \n",
       "14     ham                I HAVE A DATE ON SUNDAY WITH WILL!!   35         I   \n",
       "15    spam  XXXMobileMovieClub: To use your credit, click ...  149      XXXM   \n",
       "16     ham                         Oh k...i'm watching here:)   26         O   \n",
       "17     ham  Eh u remember how 2 spell his name... Yes i di...   81         E   \n",
       "18     ham  Fine if thats the way u feel. Thats the way ...   56         F   \n",
       "19    spam  England v Macedonia - dont miss the goals/team...  155         E   \n",
       "20     ham          Is that seriously how you spell his name?   41         I   \n",
       "21     ham    I‘m going to try for 2 months ha ha only joking   47         I   \n",
       "22     ham  So ü pay first lar... Then when is da stock co...   52         S   \n",
       "23     ham  Aft i finish my lunch then i go str down lor. ...   88         A   \n",
       "24     ham  Ffffffffff. Alright no way I can meet up with ...   57         F   \n",
       "25     ham  Just forced myself to eat a slice. I'm really ...  144         J   \n",
       "26     ham                     Lol your always so convincing.   30         L   \n",
       "27     ham  Did you catch the bus ? Are you frying an egg ...  134         D   \n",
       "28     ham  I'm back &amp; we're packing the car now, I'll...   75         I   \n",
       "29     ham  Ahhh. Work. I vaguely remember that! What does...   64         A   \n",
       "...    ...                                                ...  ...       ...   \n",
       "5542   ham           Armand says get your ass over to epsilon   40         A   \n",
       "5543   ham             U still havent got urself a jacket ah?   38         U   \n",
       "5544   ham  I'm taking derek &amp; taylor to walmart, if I...  154         I   \n",
       "5545   ham      Hi its in durban are you still on this number   45         H   \n",
       "5546   ham         Ic. There are a lotta childporn cars then.   42         I   \n",
       "5547  spam  Had your contract mobile 11 Mnths? Latest Moto...  160         H   \n",
       "5548   ham                 No, I was trying it all weekend ;V   34         N   \n",
       "5549   ham  You know, wot people wear. T shirts, jumpers, ...   87         Y   \n",
       "5550   ham        Cool, what time you think you can get here?   43         C   \n",
       "5551   ham  Wen did you get so spiritual and deep. That's ...   51         W   \n",
       "5552   ham  Have a safe trip to Nigeria. Wish you happines...   91         H   \n",
       "5553   ham                        Hahaha..use your brain dear   27         H   \n",
       "5554   ham  Well keep in mind I've only got enough gas for...   98         W   \n",
       "5555   ham  Yeh. Indians was nice. Tho it did kane me off ...  153         Y   \n",
       "5556   ham  Yes i have. So that's why u texted. Pshew...mi...   63         Y   \n",
       "5557   ham  No. I meant the calculation is the same. That ...  273         N   \n",
       "5558   ham                             Sorry, I'll call later   22         S   \n",
       "5559   ham  if you aren't here in the next  &lt;#&gt;  hou...   66       NaN   \n",
       "5560   ham                  Anything lor. Juz both of us lor.   33         A   \n",
       "5561   ham  Get me out of this dump heap. My mom decided t...   70         G   \n",
       "5562   ham  Ok lor... Sony ericsson salesman... I ask shuh...   96         O   \n",
       "5563   ham                                Ard 6 like dat lor.   19         A   \n",
       "5564   ham  Why don't you wait 'til at least wednesday to ...   67         W   \n",
       "5565   ham                                       Huh y lei...   12         H   \n",
       "5566  spam  REMINDER FROM O2: To get 2.50 pounds free call...  147  REMINDER   \n",
       "5567  spam  This is the 2nd time we have tried 2 contact u...  160         T   \n",
       "5568   ham               Will ü b going to esplanade fr home?   36         W   \n",
       "5569   ham  Pity, * was in mood for that. So...any other s...   57         P   \n",
       "5570   ham  The guy did some bitching but I acted like i'd...  125         T   \n",
       "5571   ham                         Rofl. Its true to its name   26         R   \n",
       "\n",
       "       fl                                        uc   ucl       ucr  sb  \n",
       "0     1.0                                       GAC   3.0  0.027027   0  \n",
       "1     1.0                                        OJ   2.0  0.068966   0  \n",
       "2     1.0                                FFACMTFATC  10.0  0.064516   1  \n",
       "3     1.0                                        UU   2.0  0.040816   0  \n",
       "4     1.0                                        NI   2.0  0.032787   0  \n",
       "5     1.0                                   FMHITXX   7.0  0.047619   1  \n",
       "6     1.0                                        ET   2.0  0.025974   0  \n",
       "7     1.0                                AMMOMNVCPC  10.0  0.062500   0  \n",
       "8     6.0                              WINNERATCKLV  12.0  0.076433   1  \n",
       "9     1.0                            HURUFCTMUCFREE  14.0  0.090909   1  \n",
       "10    1.0                                        II   2.0  0.018349   0  \n",
       "11    3.0                         SIXCASHFCSHCTCRHL  17.0  0.125000   1  \n",
       "12    6.0  URGENTYFREEPJTCLAIMNTCLCCLTDPOBOXLDNWARW  40.0  0.258065   1  \n",
       "13    1.0                                       IIY   3.0  0.015306   0  \n",
       "14    1.0                IHAVEADATEONSUNDAYWITHWILL  26.0  0.742857   0  \n",
       "15    4.0                   XXXMMCTWAPQJKGIGHJJGCBL  23.0  0.154362   1  \n",
       "16    1.0                                         O   1.0  0.038462   0  \n",
       "17    1.0                                       EYH   3.0  0.037037   0  \n",
       "18    1.0                                        FT   2.0  0.035714   0  \n",
       "19    1.0          EMTENGLANDTWALESSCOTLANDPOBOXWWQ  32.0  0.206452   1  \n",
       "20    1.0                                         I   1.0  0.024390   0  \n",
       "21    1.0                                         I   1.0  0.021277   0  \n",
       "22    1.0                                        ST   2.0  0.038462   0  \n",
       "23    1.0                                       AAU   3.0  0.034091   0  \n",
       "24    1.0                                       FAI   3.0  0.052632   0  \n",
       "25    1.0                                  JITMHIIL   8.0  0.055556   0  \n",
       "26    1.0                                         L   1.0  0.033333   0  \n",
       "27    1.0                                    DADADL   6.0  0.044776   0  \n",
       "28    1.0                                        II   2.0  0.026667   0  \n",
       "29    1.0                                     AWIWL   5.0  0.078125   0  \n",
       "...   ...                                       ...   ...       ...  ..  \n",
       "5542  1.0                                         A   1.0  0.025000   0  \n",
       "5543  1.0                                         U   1.0  0.026316   0  \n",
       "5544  1.0                                       III   3.0  0.019481   0  \n",
       "5545  1.0                                         H   1.0  0.022222   0  \n",
       "5546  1.0                                        IT   2.0  0.047619   0  \n",
       "5547  1.0                      HMLMNFREEDMTOTEXTYES  20.0  0.125000   1  \n",
       "5548  1.0                                       NIV   3.0  0.088235   0  \n",
       "5549  1.0                                      YTWC   4.0  0.045977   0  \n",
       "5550  1.0                                         C   1.0  0.023256   0  \n",
       "5551  1.0                                        WT   2.0  0.039216   0  \n",
       "5552  1.0                                       HNW   3.0  0.032967   0  \n",
       "5553  1.0                                         H   1.0  0.037037   0  \n",
       "5554  1.0                                        WI   2.0  0.020408   0  \n",
       "5555  1.0                                   YITWMLP   7.0  0.045752   0  \n",
       "5556  1.0                                       YSP   3.0  0.047619   0  \n",
       "5557  1.0                                   NITTHBA   7.0  0.025641   0  \n",
       "5558  1.0                                        SI   2.0  0.090909   0  \n",
       "5559  NaN                                             0.0  0.000000   0  \n",
       "5560  1.0                                        AJ   2.0  0.060606   0  \n",
       "5561  1.0                                  GMBORING   8.0  0.114286   0  \n",
       "5562  1.0                                       OSI   3.0  0.031250   0  \n",
       "5563  1.0                                         A   1.0  0.052632   0  \n",
       "5564  1.0                                         W   1.0  0.014925   0  \n",
       "5565  1.0                                         H   1.0  0.083333   0  \n",
       "5566  8.0                            REMINDERFROMOT  14.0  0.095238   1  \n",
       "5567  1.0                                 TUPNOWOBT   9.0  0.056250   1  \n",
       "5568  1.0                                         W   1.0  0.027778   0  \n",
       "5569  1.0                                        PS   2.0  0.035088   0  \n",
       "5570  1.0                                        TI   2.0  0.016000   0  \n",
       "5571  1.0                                        RI   2.0  0.076923   0  \n",
       "\n",
       "[5572 rows x 9 columns]"
      ]
     },
     "execution_count": 83,
     "metadata": {},
     "output_type": "execute_result"
    }
   ],
   "source": [
    "df"
   ]
  },
  {
   "cell_type": "code",
   "execution_count": 84,
   "metadata": {
    "collapsed": false
   },
   "outputs": [
    {
     "data": {
      "text/plain": [
       "(5572, 2)"
      ]
     },
     "execution_count": 84,
     "metadata": {},
     "output_type": "execute_result"
    }
   ],
   "source": [
    "from sklearn.linear_model import LogisticRegression\n",
    "import sklearn.metrics as metrics\n",
    "import patsy\n",
    "import numpy as np\n",
    "\n",
    "y,X = patsy.dmatrices(\"sb ~ 1 + ucl\", df)\n",
    "\n",
    "lr = LogisticRegression().fit(X, np.ravel(y))\n",
    "X.shape\n"
   ]
  },
  {
   "cell_type": "code",
   "execution_count": 85,
   "metadata": {
    "collapsed": false
   },
   "outputs": [
    {
     "data": {
      "text/plain": [
       "LogisticRegression(C=1.0, class_weight=None, dual=False, fit_intercept=True,\n",
       "          intercept_scaling=1, max_iter=100, multi_class='ovr', n_jobs=1,\n",
       "          penalty='l2', random_state=None, solver='liblinear', tol=0.0001,\n",
       "          verbose=0, warm_start=False)"
      ]
     },
     "execution_count": 85,
     "metadata": {},
     "output_type": "execute_result"
    }
   ],
   "source": [
    "lr"
   ]
  },
  {
   "cell_type": "code",
   "execution_count": 86,
   "metadata": {
    "collapsed": false
   },
   "outputs": [
    {
     "data": {
      "text/plain": [
       "array([[ 0.89445837,  0.10554163],\n",
       "       [ 0.90047267,  0.09952733],\n",
       "       [ 0.84283703,  0.15716297],\n",
       "       ..., \n",
       "       [ 0.90047267,  0.09952733],\n",
       "       [ 0.90047267,  0.09952733],\n",
       "       [ 0.90047267,  0.09952733]])"
      ]
     },
     "execution_count": 86,
     "metadata": {},
     "output_type": "execute_result"
    }
   ],
   "source": [
    "lr.predict_proba(X)"
   ]
  },
  {
   "cell_type": "code",
   "execution_count": 87,
   "metadata": {
    "collapsed": false
   },
   "outputs": [
    {
     "data": {
      "image/png": "[encoded data removed]",
      "text/plain": [
       "<matplotlib.figure.Figure at 0x2214a467dd8>"
      ]
     },
     "metadata": {},
     "output_type": "display_data"
    }
   ],
   "source": [
    "import matplotlib.pyplot as plt\n",
    "\n",
    "fpr, tpr, threshold = metrics.roc_curve(df['sb'], lr.predict_proba(X)[:,1])\n",
    "roc_auc = metrics.auc(fpr, tpr)\n",
    "\n",
    "import matplotlib.pyplot as plt\n",
    "plt.title('Receiver Operating Characteristic')\n",
    "plt.plot(fpr, tpr, 'b', label = 'AUC = %0.2f' % roc_auc)\n",
    "plt.legend(loc = 'lower right')\n",
    "plt.plot([0, 1], [0, 1],'r--')\n",
    "plt.xlim([0, 1])\n",
    "plt.ylim([0, 1])\n",
    "plt.ylabel('True Positive Rate')\n",
    "plt.xlabel('False Positive Rate')\n",
    "plt.show()"
   ]
  },
  {
   "cell_type": "markdown",
   "metadata": {},
   "source": [
    "But are we actually cheating - are we overfitting the data? We can use data splitting to make sure that our findings generalize. To show this, let's fit a really flexible model. This uses the upper case string itself (not just its length)."
   ]
  },
  {
   "cell_type": "code",
   "execution_count": 91,
   "metadata": {
    "collapsed": false
   },
   "outputs": [
    {
     "data": {
      "text/plain": [
       "(5572, 2137)"
      ]
     },
     "execution_count": 91,
     "metadata": {},
     "output_type": "execute_result"
    }
   ],
   "source": [
    "y,X = patsy.dmatrices(\"sb ~ 1 + uc\", df)\n",
    "\n",
    "lr2 = LogisticRegression().fit(X, np.ravel(y))\n",
    "X.shape"
   ]
  },
  {
   "cell_type": "code",
   "execution_count": 92,
   "metadata": {
    "collapsed": false
   },
   "outputs": [
    {
     "data": {
      "image/png": "[encoded data removed]",
      "text/plain": [
       "<matplotlib.figure.Figure at 0x221487b0400>"
      ]
     },
     "metadata": {},
     "output_type": "display_data"
    }
   ],
   "source": [
    "fpr, tpr, threshold = metrics.roc_curve(df['sb'], lr2.predict_proba(X)[:,1])\n",
    "roc_auc = metrics.auc(fpr, tpr)\n",
    "\n",
    "import matplotlib.pyplot as plt\n",
    "plt.title('Receiver Operating Characteristic')\n",
    "plt.plot(fpr, tpr, 'b', label = 'AUC = %0.2f' % roc_auc)\n",
    "plt.legend(loc = 'lower right')\n",
    "plt.plot([0, 1], [0, 1],'r--')\n",
    "plt.xlim([0, 1])\n",
    "plt.ylim([0, 1])\n",
    "plt.ylabel('True Positive Rate')\n",
    "plt.xlabel('False Positive Rate')\n",
    "plt.show()"
   ]
  },
  {
   "cell_type": "markdown",
   "metadata": {},
   "source": [
    "A remedy is to use data splitting. We'll just use one simple split but more splits and averaging over the results is common."
   ]
  },
  {
   "cell_type": "code",
   "execution_count": 93,
   "metadata": {
    "collapsed": false
   },
   "outputs": [
    {
     "data": {
      "image/png": "[encoded data removed]",
      "text/plain": [
       "<matplotlib.figure.Figure at 0x2214a468f98>"
      ]
     },
     "metadata": {},
     "output_type": "display_data"
    }
   ],
   "source": [
    "df['ts'] = df['t'].str.replace('\\W', '') # for simplicity we keep only the letters of each text\n",
    "df['ts'] = df['ts'].str.replace('\\d+', '')\n",
    "\n",
    "# we split data into a training set and a test set. The training is used for fitting a model, and this model is evaluated using the test set.\n",
    "dfTrain = df.iloc[:4000,:]\n",
    "dfTest = df.iloc[4000:,:]\n",
    "\n",
    "\n",
    "y,X = patsy.dmatrices(\"sb ~ 1 + ucr\", dfTrain)\n",
    "lrUcr = LogisticRegression().fit(X, np.ravel(y))\n",
    "yTest,Xtest = patsy.dmatrices(\"sb ~ 1 + ucr\", dfTest)\n",
    "\n",
    "\n",
    "fpr, tpr, threshold = metrics.roc_curve(dfTest['sb'], lrUcr.predict_proba(Xtest)[:,1])\n",
    "roc_auc = metrics.auc(fpr, tpr)\n",
    "\n",
    "import matplotlib.pyplot as plt\n",
    "plt.title('Receiver Operating Characteristic')\n",
    "plt.plot(fpr, tpr, 'b', label = 'AUC = %0.2f' % roc_auc)\n",
    "plt.legend(loc = 'lower right')\n",
    "plt.plot([0, 1], [0, 1],'r--')\n",
    "plt.xlim([0, 1])\n",
    "plt.ylim([0, 1])\n",
    "plt.ylabel('True Positive Rate')\n",
    "plt.xlabel('False Positive Rate')\n",
    "plt.show()"
   ]
  },
  {
   "cell_type": "markdown",
   "metadata": {},
   "source": [
    "### Task 1\n",
    "\n",
    "Compute FPR and TPR yourself for the thresholds in the vector 'threshold' above. Compare with the result from the metrics.roc_curve function.\n",
    "\n",
    "### Task 2\n",
    "\n",
    "Assume you use a random classifier (you just flip a (weighted) coin to decide the classification). What would the ROC look like? You can either implement this or give a theoretical argument."
   ]
  },
  {
   "cell_type": "markdown",
   "metadata": {},
   "source": [
    "We also try with a more flexible model, using counts of each combination (of length 1 or 2) of letters in the simplified texts. We see that the training AUC is 1."
   ]
  },
  {
   "cell_type": "code",
   "execution_count": 94,
   "metadata": {
    "collapsed": false
   },
   "outputs": [
    {
     "data": {
      "text/plain": [
       "0.3428991905813098"
      ]
     },
     "execution_count": 94,
     "metadata": {},
     "output_type": "execute_result"
    }
   ],
   "source": [
    "fpr[199]"
   ]
  },
  {
   "cell_type": "code",
   "execution_count": 95,
   "metadata": {
    "collapsed": false
   },
   "outputs": [],
   "source": [
    "from sklearn.feature_extraction.text import CountVectorizer\n",
    "\n",
    "vectorizer = CountVectorizer(ngram_range=(1, 2),token_pattern = r\"(?u)\\b\\w+\\b\", analyzer = 'char')\n",
    "\n",
    "X = vectorizer.fit_transform(dfTrain['ts'])\n",
    "\n",
    "feature_list = vectorizer.get_feature_names()"
   ]
  },
  {
   "cell_type": "code",
   "execution_count": 96,
   "metadata": {
    "collapsed": false
   },
   "outputs": [
    {
     "data": {
      "text/plain": [
       "(4000, 724)"
      ]
     },
     "execution_count": 96,
     "metadata": {},
     "output_type": "execute_result"
    }
   ],
   "source": [
    "X.shape"
   ]
  },
  {
   "cell_type": "code",
   "execution_count": 97,
   "metadata": {
    "collapsed": false
   },
   "outputs": [
    {
     "data": {
      "image/png": "[encoded data removed]",
      "text/plain": [
       "<matplotlib.figure.Figure at 0x2214a9425c0>"
      ]
     },
     "metadata": {},
     "output_type": "display_data"
    }
   ],
   "source": [
    "lrUc = LogisticRegression().fit(X, np.ravel(dfTrain['sb']))\n",
    "\n",
    "fpr, tpr, threshold = metrics.roc_curve(dfTrain['sb'], lrUc.predict_proba(X)[:,1])\n",
    "roc_auc = metrics.auc(fpr, tpr)\n",
    "\n",
    "import matplotlib.pyplot as plt\n",
    "plt.title('Receiver Operating Characteristic')\n",
    "plt.plot(fpr, tpr, 'b', label = 'AUC = %0.2f' % roc_auc)\n",
    "plt.legend(loc = 'lower right')\n",
    "plt.plot([0, 1], [0, 1],'r--')\n",
    "plt.xlim([0, 1])\n",
    "plt.ylim([0, 1])\n",
    "plt.ylabel('True Positive Rate')\n",
    "plt.xlabel('False Positive Rate')\n",
    "plt.show()"
   ]
  },
  {
   "cell_type": "markdown",
   "metadata": {},
   "source": [
    "Using the test data, the AUC is lower."
   ]
  },
  {
   "cell_type": "code",
   "execution_count": 98,
   "metadata": {
    "collapsed": false,
    "scrolled": true
   },
   "outputs": [
    {
     "data": {
      "image/png": "[encoded data removed]",
      "text/plain": [
       "<matplotlib.figure.Figure at 0x22147d75518>"
      ]
     },
     "metadata": {},
     "output_type": "display_data"
    }
   ],
   "source": [
    "vectorizer = CountVectorizer(ngram_range=(1, 2),token_pattern = r\"(?u)\\b\\w+\\b\", analyzer = 'char', vocabulary = feature_list)\n",
    "Xtest = vectorizer.fit_transform(dfTest['uc'])\n",
    "\n",
    "fpr, tpr, threshold = metrics.roc_curve(dfTest['sb'], lrUc.predict_proba(Xtest)[:,1])\n",
    "roc_auc = metrics.auc(fpr, tpr)\n",
    "\n",
    "import matplotlib.pyplot as plt\n",
    "plt.title('Receiver Operating Characteristic')\n",
    "plt.plot(fpr, tpr, 'b', label = 'AUC = %0.2f' % roc_auc)\n",
    "plt.legend(loc = 'lower right')\n",
    "plt.plot([0, 1], [0, 1],'r--')\n",
    "plt.xlim([0, 1])\n",
    "plt.ylim([0, 1])\n",
    "plt.ylabel('True Positive Rate')\n",
    "plt.xlabel('False Positive Rate')\n",
    "plt.show()"
   ]
  },
  {
   "cell_type": "markdown",
   "metadata": {},
   "source": [
    "### Task 3\n",
    "\n",
    "Evaluate your own feature(s) from Week 3 using the AUC and data splitting. "
   ]
  },
  {
   "cell_type": "code",
   "execution_count": 73,
   "metadata": {
    "collapsed": false
   },
   "outputs": [
    {
     "data": {
      "text/plain": [
       "0.3428991905813098"
      ]
     },
     "execution_count": 73,
     "metadata": {},
     "output_type": "execute_result"
    }
   ],
   "source": [
    "#sum(np.logical_and(dfTest['sb'] == 0, lrUcr.predict_proba(Xtest)[:,1] > threshold[200]))/sum(dfTest['sb'] == 0)"
   ]
  },
  {
   "cell_type": "code",
   "execution_count": 74,
   "metadata": {
    "collapsed": false
   },
   "outputs": [
    {
     "data": {
      "text/plain": [
       "0.3428991905813098"
      ]
     },
     "execution_count": 74,
     "metadata": {},
     "output_type": "execute_result"
    }
   ],
   "source": [
    "#fpr[199]"
   ]
  },
  {
   "cell_type": "code",
   "execution_count": 75,
   "metadata": {
    "collapsed": false
   },
   "outputs": [
    {
     "data": {
      "text/plain": [
       "0.83568075117370888"
      ]
     },
     "execution_count": 75,
     "metadata": {},
     "output_type": "execute_result"
    }
   ],
   "source": [
    "#sum(np.logical_and(dfTest['sb'] == 1, lrUcr.predict_proba(Xtest)[:,1] > threshold[200]))/sum(dfTest['sb'] == 1)"
   ]
  },
  {
   "cell_type": "code",
   "execution_count": 76,
   "metadata": {
    "collapsed": false
   },
   "outputs": [
    {
     "data": {
      "text/plain": [
       "0.83568075117370888"
      ]
     },
     "execution_count": 76,
     "metadata": {},
     "output_type": "execute_result"
    }
   ],
   "source": [
    "#tpr[199]"
   ]
  },
  {
   "cell_type": "code",
   "execution_count": null,
   "metadata": {
    "collapsed": true
   },
   "outputs": [],
   "source": []
  }
 ],
 "metadata": {
  "kernelspec": {
   "display_name": "Python 3",
   "language": "python",
   "name": "python3"
  },
  "language_info": {
   "codemirror_mode": {
    "name": "ipython",
    "version": 3
   },
   "file_extension": ".py",
   "mimetype": "text/x-python",
   "name": "python",
   "nbconvert_exporter": "python",
   "pygments_lexer": "ipython3",
   "version": "3.6.0"
  }
 },
 "nbformat": 4,
 "nbformat_minor": 2
}
